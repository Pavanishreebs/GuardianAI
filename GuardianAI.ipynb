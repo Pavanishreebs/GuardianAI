{
  "nbformat": 4,
  "nbformat_minor": 0,
  "metadata": {
    "colab": {
      "provenance": [],
      "include_colab_link": true
    },
    "kernelspec": {
      "name": "python3",
      "display_name": "Python 3"
    },
    "language_info": {
      "name": "python"
    }
  },
  "cells": [
    {
      "cell_type": "markdown",
      "metadata": {
        "id": "view-in-github",
        "colab_type": "text"
      },
      "source": [
        "<a href=\"https://colab.research.google.com/github/Pavanishreebs/GuardianAI/blob/main/GuardianAI.ipynb\" target=\"_parent\"><img src=\"https://colab.research.google.com/assets/colab-badge.svg\" alt=\"Open In Colab\"/></a>"
      ]
    },
    {
      "cell_type": "code",
      "source": [
        "!pip install psutil\n",
        "!pip install requests"
      ],
      "metadata": {
        "colab": {
          "base_uri": "https://localhost:8080/"
        },
        "id": "T8M56rbpZFUI",
        "outputId": "1ba21942-c2e0-445f-d0b6-b8ad1b10144b"
      },
      "execution_count": null,
      "outputs": [
        {
          "output_type": "stream",
          "name": "stdout",
          "text": [
            "Requirement already satisfied: psutil in /usr/local/lib/python3.11/dist-packages (5.9.5)\n",
            "Requirement already satisfied: requests in /usr/local/lib/python3.11/dist-packages (2.32.3)\n",
            "Requirement already satisfied: charset-normalizer<4,>=2 in /usr/local/lib/python3.11/dist-packages (from requests) (3.4.1)\n",
            "Requirement already satisfied: idna<4,>=2.5 in /usr/local/lib/python3.11/dist-packages (from requests) (3.10)\n",
            "Requirement already satisfied: urllib3<3,>=1.21.1 in /usr/local/lib/python3.11/dist-packages (from requests) (2.3.0)\n",
            "Requirement already satisfied: certifi>=2017.4.17 in /usr/local/lib/python3.11/dist-packages (from requests) (2025.1.31)\n"
          ]
        }
      ]
    },
    {
      "cell_type": "code",
      "source": [
        "import json\n",
        "import socket\n",
        "import urllib.request\n",
        "import requests\n",
        "import psutil  # For checking network connections\n",
        "\n",
        "# Mock or replace with actual g4f implementation\n",
        "def chat_with_gpt(prompt):\n",
        "    # Replace this with actual g4f call if needed\n",
        "    print(f\"[GPT Prompt] {prompt}\")\n",
        "    return \"[True, 85]\"  # Mocked response\n",
        "\n",
        "# Function to check if a URL is a phishing URL using GPT\n",
        "def is_phishing_url(url):\n",
        "    prompt = f\"Only respond in this format [True/False, (if true : danger in % without % symbol. if False : None)] : Is this Url a Phishing url? {url}\"\n",
        "    response = chat_with_gpt(prompt)\n",
        "    try:\n",
        "        result = response.strip(\"[] \").split(\",\")\n",
        "        is_phish = result[0].strip().lower() == 'true'\n",
        "        danger = result[1].strip() if is_phish else None\n",
        "        return is_phish, danger\n",
        "    except Exception as e:\n",
        "        print(f\"Error parsing GPT response: {e}\")\n",
        "        return False, None\n",
        "\n",
        "# Get IP address info using ip-api.com\n",
        "def get_ip_address(url):\n",
        "    try:\n",
        "        response = requests.get(f'https://ip-api.com/json/{url}')\n",
        "        response_json = response.json()\n",
        "        return response_json.get('query', 'Unknown')\n",
        "    except Exception as e:\n",
        "        print(f\"Failed to get IP for {url}: {e}\")\n",
        "        return \"Unknown\"\n",
        "\n",
        "# Save to database.json\n",
        "def save_phishing_url(url, ip_address):\n",
        "    try:\n",
        "        try:\n",
        "            with open('database.json', 'r') as file:\n",
        "                data = json.load(file)\n",
        "        except (FileNotFoundError, json.JSONDecodeError):\n",
        "            data = {}\n",
        "\n",
        "        data[url] = ip_address\n",
        "\n",
        "        with open('database.json', 'w') as file:\n",
        "            json.dump(data, file, indent=4)\n",
        "        print(f\"Saved to database.json: {url} → {ip_address}\")\n",
        "    except Exception as e:\n",
        "        print(f\"Error saving URL to database: {e}\")\n",
        "\n",
        "# Get established network connections\n",
        "def scan_connections():\n",
        "    print(\"Scanning active connections...\\n\")\n",
        "    for conn in psutil.net_connections(kind='inet'):\n",
        "        if conn.status == 'ESTABLISHED' and conn.raddr:\n",
        "            remote_ip = conn.raddr.ip\n",
        "            try:\n",
        "                # Try to resolve the IP to a URL (reverse DNS or http get)\n",
        "                url = f\"http://{remote_ip}\"\n",
        "                print(f\"\\nChecking: {url}\")\n",
        "                is_phish, danger = is_phishing_url(url)\n",
        "                print(f\"Phishing: {is_phish}, Risk: {danger}\")\n",
        "\n",
        "                if is_phish:\n",
        "                    ip = get_ip_address(remote_ip)\n",
        "                    save_phishing_url(url, ip)\n",
        "\n",
        "            except Exception as e:\n",
        "                print(f\"Error checking connection to {remote_ip}: {e}\")\n",
        "\n",
        "# Run the scanner\n",
        "if __name__ == \"__main__\":\n",
        "    scan_connections()\n"
      ],
      "metadata": {
        "colab": {
          "base_uri": "https://localhost:8080/"
        },
        "id": "E8Ww-AHcZByu",
        "outputId": "76c2ab5d-a730-4912-8f31-622d4265cdca"
      },
      "execution_count": null,
      "outputs": [
        {
          "output_type": "stream",
          "name": "stdout",
          "text": [
            "Scanning active connections...\n",
            "\n",
            "\n",
            "Checking: http://127.0.0.1\n",
            "[GPT Prompt] Only respond in this format [True/False, (if true : danger in % without % symbol. if False : None)] : Is this Url a Phishing url? http://127.0.0.1\n",
            "Phishing: True, Risk: 85\n",
            "Saved to database.json: http://127.0.0.1 → Unknown\n",
            "\n",
            "Checking: http://127.0.0.1\n",
            "[GPT Prompt] Only respond in this format [True/False, (if true : danger in % without % symbol. if False : None)] : Is this Url a Phishing url? http://127.0.0.1\n",
            "Phishing: True, Risk: 85\n",
            "Saved to database.json: http://127.0.0.1 → Unknown\n",
            "\n",
            "Checking: http://127.0.0.1\n",
            "[GPT Prompt] Only respond in this format [True/False, (if true : danger in % without % symbol. if False : None)] : Is this Url a Phishing url? http://127.0.0.1\n",
            "Phishing: True, Risk: 85\n",
            "Saved to database.json: http://127.0.0.1 → Unknown\n",
            "\n",
            "Checking: http://127.0.0.1\n",
            "[GPT Prompt] Only respond in this format [True/False, (if true : danger in % without % symbol. if False : None)] : Is this Url a Phishing url? http://127.0.0.1\n",
            "Phishing: True, Risk: 85\n",
            "Saved to database.json: http://127.0.0.1 → Unknown\n",
            "\n",
            "Checking: http://::ffff:172.28.0.1\n",
            "[GPT Prompt] Only respond in this format [True/False, (if true : danger in % without % symbol. if False : None)] : Is this Url a Phishing url? http://::ffff:172.28.0.1\n",
            "Phishing: True, Risk: 85\n",
            "Saved to database.json: http://::ffff:172.28.0.1 → Unknown\n",
            "\n",
            "Checking: http://172.28.0.12\n",
            "[GPT Prompt] Only respond in this format [True/False, (if true : danger in % without % symbol. if False : None)] : Is this Url a Phishing url? http://172.28.0.12\n",
            "Phishing: True, Risk: 85\n",
            "Saved to database.json: http://172.28.0.12 → Unknown\n",
            "\n",
            "Checking: http://::ffff:172.28.0.1\n",
            "[GPT Prompt] Only respond in this format [True/False, (if true : danger in % without % symbol. if False : None)] : Is this Url a Phishing url? http://::ffff:172.28.0.1\n",
            "Phishing: True, Risk: 85\n",
            "Saved to database.json: http://::ffff:172.28.0.1 → Unknown\n",
            "\n",
            "Checking: http://172.28.0.12\n",
            "[GPT Prompt] Only respond in this format [True/False, (if true : danger in % without % symbol. if False : None)] : Is this Url a Phishing url? http://172.28.0.12\n",
            "Phishing: True, Risk: 85\n",
            "Saved to database.json: http://172.28.0.12 → Unknown\n",
            "\n",
            "Checking: http://172.28.0.12\n",
            "[GPT Prompt] Only respond in this format [True/False, (if true : danger in % without % symbol. if False : None)] : Is this Url a Phishing url? http://172.28.0.12\n",
            "Phishing: True, Risk: 85\n",
            "Saved to database.json: http://172.28.0.12 → Unknown\n",
            "\n",
            "Checking: http://172.28.0.12\n",
            "[GPT Prompt] Only respond in this format [True/False, (if true : danger in % without % symbol. if False : None)] : Is this Url a Phishing url? http://172.28.0.12\n",
            "Phishing: True, Risk: 85\n",
            "Saved to database.json: http://172.28.0.12 → Unknown\n",
            "\n",
            "Checking: http://172.28.0.12\n",
            "[GPT Prompt] Only respond in this format [True/False, (if true : danger in % without % symbol. if False : None)] : Is this Url a Phishing url? http://172.28.0.12\n",
            "Phishing: True, Risk: 85\n",
            "Saved to database.json: http://172.28.0.12 → Unknown\n",
            "\n",
            "Checking: http://172.28.0.12\n",
            "[GPT Prompt] Only respond in this format [True/False, (if true : danger in % without % symbol. if False : None)] : Is this Url a Phishing url? http://172.28.0.12\n",
            "Phishing: True, Risk: 85\n",
            "Saved to database.json: http://172.28.0.12 → Unknown\n",
            "\n",
            "Checking: http://172.28.0.1\n",
            "[GPT Prompt] Only respond in this format [True/False, (if true : danger in % without % symbol. if False : None)] : Is this Url a Phishing url? http://172.28.0.1\n",
            "Phishing: True, Risk: 85\n",
            "Saved to database.json: http://172.28.0.1 → Unknown\n",
            "\n",
            "Checking: http://::ffff:172.28.0.1\n",
            "[GPT Prompt] Only respond in this format [True/False, (if true : danger in % without % symbol. if False : None)] : Is this Url a Phishing url? http://::ffff:172.28.0.1\n",
            "Phishing: True, Risk: 85\n",
            "Saved to database.json: http://::ffff:172.28.0.1 → Unknown\n"
          ]
        }
      ]
    }
  ]
}